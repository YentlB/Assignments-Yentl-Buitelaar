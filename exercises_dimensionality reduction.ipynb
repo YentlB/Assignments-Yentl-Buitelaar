{
  "cells": [
    {
      "cell_type": "markdown",
      "metadata": {
        "id": "DpQO74NcTOhb"
      },
      "source": [
        "# Exercises\n",
        "\n",
        "---"
      ]
    },
    {
      "cell_type": "markdown",
      "metadata": {
        "id": "ZKrIeEERTOhj"
      },
      "source": [
        "## Exercise 1: structured and ustructured images\n",
        "Write a function that outputs the number of PC you have to choose to retain a given percentage of explained variance.\n",
        "Use this funtion on the  handwritten digit data, and plot the number of PC needed to retain a certain fraction of EVR, for a few vaules of EVR.\n",
        "\n",
        "Compare this curve to the one you can obtain in unstructured images: either generate images with the same shape of our data or randomly permute the pixels in each image independenlty. How does the number of PC needed to retain a certain fraction of the variance in this case compare to the number needed for digit images?"
      ]
    },
    {
      "cell_type": "markdown",
      "metadata": {
        "id": "MdpUqJaJTOhm"
      },
      "source": [
        "## Exercise 2: cortical dynamics\n",
        "\n",
        "Work with the cortical data we used in the lesson. Write some code that lets you easily chose a specific behavioural event from the `trial_data` dictionary (the recorded events are `CSp` for positive conditioned stimulus, `CSn` for negative conditioned stimulus and `licks` for lick events), one of the principal components, an onset time and and offset time, and plots the timecourse of this component in the selected period around the chosen event type.\n",
        "\n",
        "Use this code to explore the data: how do different components behave? Do you notice any patterns? How would you test for the statistical significance of the effects that you see (if any)?"
      ]
    },
    {
      "cell_type": "code",
      "source": [
        "import numpy as np\n",
        "import matplotlib.pyplot as plt\n",
        "import pickle\n",
        "from sklearn.decomposition import PCA\n",
        "\n",
        "# === 1. Load the Data ===\n",
        "voltage_data = np.load(\"voltage_signal.npy\")  # Must be manually uploaded in Colab\n",
        "mask = np.load(\"cortex_mask.npy\")\n",
        "\n",
        "with open(\"behaviour.pickle\", \"rb\") as f:\n",
        "    trial_data = pickle.load(f)\n",
        "\n",
        "# === 2. Check Frame Information ===\n",
        "frames = trial_data.get(\"frames\", None)\n",
        "if frames is None:\n",
        "    raise ValueError(\"No 'frames' key found in trial_data.\")\n",
        "frame_diffs = np.diff(frames)\n",
        "frame_rate = 1 / np.mean(frame_diffs)  # seconds per frame\n",
        "print(f\"Estimated frame rate: {frame_rate:.4f} Hz\")\n",
        "\n",
        "# === 3. Reshape Voltage Data for PCA ===\n",
        "if voltage_data.shape == (96, 61, 29999):\n",
        "    # Expected shape: (n_pixels_x, n_pixels_y, n_frames)\n",
        "    voltage_data = voltage_data.reshape(-1, voltage_data.shape[2])  # shape: (pixels, time)\n",
        "    print(f\"Reshaped voltage data to: {voltage_data.shape}\")\n",
        "else:\n",
        "    raise ValueError(f\"Unexpected shape: {voltage_data.shape}\")\n",
        "\n",
        "# === 4. Apply PCA ===\n",
        "pca = PCA(n_components=10)\n",
        "pc_scores = pca.fit_transform(voltage_data.T)  # Transpose: (time, pixels)\n",
        "\n",
        "print(f\"PCA result shape: {pc_scores.shape} (frames x PCs)\")\n",
        "\n",
        "# === 5. Define Plot Function ===\n",
        "def plot_pc_around_event(event_name, pc_index=0, window=(-20, 50)):\n",
        "    \"\"\"\n",
        "    Plot the average timecourse of a principal component around a behavioral event.\n",
        "    :param event_name: 'CSp', 'CSn', or 'Lick'\n",
        "    :param pc_index: which PC to analyze (0 = PC1)\n",
        "    :param window: tuple (pre, post) in frames\n",
        "    \"\"\"\n",
        "    assert event_name in trial_data, f\"Event '{event_name}' not in trial_data\"\n",
        "    event_times = trial_data[event_name]\n",
        "    valid_trials = []\n",
        "\n",
        "    for t in event_times:\n",
        "        start = t + window[0]\n",
        "        end = t + window[1]\n",
        "        if start >= 0 and end < pc_scores.shape[0]:\n",
        "            valid_trials.append(pc_scores[start:end, pc_index])\n",
        "\n",
        "    if not valid_trials:\n",
        "        print(f\"⚠️ No valid trials found for event '{event_name}' in window {window}.\")\n",
        "        return\n",
        "\n",
        "    valid_trials = np.array(valid_trials)\n",
        "    mean_trace = valid_trials.mean(axis=0)\n",
        "    std_trace = valid_trials.std(axis=0)\n",
        "\n",
        "    time_axis = np.arange(window[0], window[1])\n",
        "\n",
        "    plt.figure(figsize=(8, 4))\n",
        "    plt.plot(time_axis, mean_trace, label=f\"PC{pc_index+1}\")\n",
        "    plt.fill_between(time_axis, mean_trace - std_trace, mean_trace + std_trace, alpha=0.3)\n",
        "    plt.axvline(0, color='red', linestyle='--', label='Event')\n",
        "    plt.title(f\"PC{pc_index+1} around '{event_name}' events\")\n",
        "    plt.xlabel(\"Time (frames)\")\n",
        "    plt.ylabel(\"PC value\")\n",
        "    plt.legend()\n",
        "    plt.grid(True)\n",
        "    plt.tight_layout()\n",
        "    plt.show()\n",
        "\n",
        "# === 6. Example Usage ===\n",
        "plot_pc_around_event(\"CSp\", pc_index=0, window=(-1000, 1000))\n",
        "plot_pc_around_event(\"CSn\", pc_index=1, window=(-1000, 1000))\n",
        "plot_pc_around_event(\"Lick\", pc_index=2, window=(-1000, 1000))\n"
      ],
      "metadata": {
        "id": "WBWMF8NNXsmP",
        "outputId": "5517f19c-def3-4508-fbb4-906d8a1ed7b3",
        "colab": {
          "base_uri": "https://localhost:8080/"
        }
      },
      "execution_count": 9,
      "outputs": [
        {
          "output_type": "stream",
          "name": "stderr",
          "text": [
            "/tmp/ipython-input-9-3905994409.py:11: DeprecationWarning: numpy.core.numeric is deprecated and has been renamed to numpy._core.numeric. The numpy._core namespace contains private NumPy internals and its use is discouraged, as NumPy internals can change without warning in any release. In practice, most real-world usage of numpy.core is to access functionality in the public NumPy API. If that is the case, use the public NumPy API. If not, you are using NumPy internals. If you would still like to access an internal attribute, use numpy._core.numeric._frombuffer.\n",
            "  trial_data = pickle.load(f)\n"
          ]
        },
        {
          "output_type": "stream",
          "name": "stdout",
          "text": [
            "Estimated frame rate: 0.0025 Hz\n",
            "Reshaped voltage data to: (5856, 29999)\n",
            "PCA result shape: (29999, 10) (frames x PCs)\n",
            "⚠️ No valid trials found for event 'CSp' in window (-1000, 1000).\n",
            "⚠️ No valid trials found for event 'CSn' in window (-1000, 1000).\n",
            "⚠️ No valid trials found for event 'Lick' in window (-1000, 1000).\n"
          ]
        }
      ]
    },
    {
      "cell_type": "code",
      "source": [
        "# Examine the first few event timestamps and the frame range\n",
        "print(\"CSp event times:\", trial_data['CSp'][:5])\n",
        "print(\"CSn event times:\", trial_data['CSn'][:5])\n",
        "print(\"Lick event times:\", trial_data['Lick'][:5])\n",
        "print(\"Frame range:\", trial_data['frames'][0], \"to\", trial_data['frames'][-1])\n",
        "print(\"Total frames recorded:\", len(trial_data['frames']))\n"
      ],
      "metadata": {
        "id": "dMf_XOMJ_OAY",
        "outputId": "31bd0b6f-9c15-472d-a713-c9d9afb33bea",
        "colab": {
          "base_uri": "https://localhost:8080/"
        }
      },
      "execution_count": 10,
      "outputs": [
        {
          "output_type": "stream",
          "name": "stdout",
          "text": [
            "CSp event times: [ 280321 1660291 3107098 8821400 9449479]\n",
            "CSn event times: [ 873276 2140765 3488066 4434228 5357890]\n",
            "Lick event times: [285769 286518 343309 343310 344079]\n",
            "Frame range: 1 to 12022719\n",
            "Total frames recorded: 30000\n"
          ]
        }
      ]
    },
    {
      "cell_type": "markdown",
      "metadata": {
        "id": "fzsPWAwTTOho"
      },
      "source": [
        "## Exercise 3: nonlinear dimensionality reduction\n",
        "\n",
        "Using the MNIST digit dataset, explore the effect of hyperparameters on the result of nonlinear dimensionality reduction methods.\n",
        "\n",
        "- Change the `perplexity` and `exageration` parameters in `TNSE` (one at a time). Graphically compare the results of different values.\n",
        "- Change the neighbourhood size in `Isomap` (set by the parameter `n_neighbors`), and visualize how the results change.\n",
        "\n",
        "Finally, try to apply one or more of these methods to the cortical data we used in the lessons. How do the data look in two dimensions? Do any cluster seem to appear? Are they robust with respect to hyperparameter choice?"
      ]
    },
    {
      "cell_type": "code",
      "execution_count": null,
      "metadata": {
        "id": "J6dbLgoiTOhq"
      },
      "outputs": [],
      "source": []
    }
  ],
  "metadata": {
    "kernelspec": {
      "display_name": "Python 3 (ipykernel)",
      "language": "python",
      "name": "python3"
    },
    "language_info": {
      "codemirror_mode": {
        "name": "ipython",
        "version": 3
      },
      "file_extension": ".py",
      "mimetype": "text/x-python",
      "name": "python",
      "nbconvert_exporter": "python",
      "pygments_lexer": "ipython3",
      "version": "3.10.8"
    },
    "vscode": {
      "interpreter": {
        "hash": "31f2aee4e71d21fbe5cf8b01ff0e069b9275f58929596ceb00d14d90e3e16cd6"
      }
    },
    "colab": {
      "provenance": []
    }
  },
  "nbformat": 4,
  "nbformat_minor": 0
}